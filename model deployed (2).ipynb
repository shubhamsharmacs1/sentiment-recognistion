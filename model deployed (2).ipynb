{
 "cells": [
  {
   "cell_type": "code",
   "execution_count": 1,
   "id": "e440ffcc",
   "metadata": {},
   "outputs": [],
   "source": [
    "import cv2\n",
    "import numpy as np\n",
    "from tensorflow.keras.models import load_model\n",
    "import time\n",
    "import statistics"
   ]
  },
  {
   "cell_type": "code",
   "execution_count": 4,
   "id": "21531a86",
   "metadata": {},
   "outputs": [],
   "source": [
    "model=load_model(\"best_sentiment_model (3).h5\")"
   ]
  },
  {
   "cell_type": "code",
   "execution_count": 5,
   "id": "79255fb3",
   "metadata": {},
   "outputs": [],
   "source": [
    "emotion_labels=['Angry', 'Disgust', 'Fear', 'Happy', 'Normal', 'Sad', 'suprise']"
   ]
  },
  {
   "cell_type": "code",
   "execution_count": 21,
   "id": "4699ab12",
   "metadata": {},
   "outputs": [
    {
     "name": "stdout",
     "output_type": "stream",
     "text": [
      "Overall Result: Normal\n"
     ]
    }
   ],
   "source": [
    "cap = cv2.VideoCapture(0)\n",
    "curent_time=time.time()\n",
    "duretion=4 # seconds\n",
    "result=[]\n",
    "while True:\n",
    "    ret, frame = cap.read()\n",
    "    if not ret:\n",
    "        break\n",
    "    gray = cv2.cvtColor(frame, cv2.COLOR_BGR2GRAY)\n",
    "    face_cascade = cv2.CascadeClassifier('haarcascade_frontalface_default.xml')\n",
    "    faces = face_cascade.detectMultiScale(gray, scaleFactor=1.1, minNeighbors=5, minSize=(30, 30))\n",
    "    for (x, y, w, h) in faces:\n",
    "        roi = gray[y:y + h, x:x + w]\n",
    "        roi = cv2.resize(roi, (48,48))\n",
    "        roi = roi.astype('float') / 255.0\n",
    "        roi = np.expand_dims(roi, axis=0)        \n",
    "        emotion_prediction = model.predict(roi,verbose=False)\n",
    "        emotion_label = emotion_labels[np.argmax(emotion_prediction)]\n",
    "        result.append(emotion_label)\n",
    "        # Draw a rectangle around the detected face and display the emotion label\n",
    "        cv2.rectangle(frame, (x, y), (x + w, y + h), (0, 255, 0), 2)\n",
    "        cv2.putText(frame, emotion_label, (x, y - 10), cv2.FONT_HERSHEY_SIMPLEX, 0.9, (0, 255, 0), 2)\n",
    "    cv2.imshow('Facial Expression Recognition', frame)\n",
    "    # time.sleep(2)\n",
    "    if time.time()-curent_time>=duretion:\n",
    "        break\n",
    "    if cv2.waitKey(1) & 0xFF == ord('q'):\n",
    "        break\n",
    "# Release the video capture object and close the OpenCV window\n",
    "cap.release()\n",
    "cv2.destroyAllWindows()\n",
    "\n",
    "print(\"Overall Result:\",statistics.mode(result))"
   ]
  },
  {
   "cell_type": "code",
   "execution_count": 22,
   "id": "7f430e40-4d38-4b0b-8391-32b866a86d54",
   "metadata": {},
   "outputs": [
    {
     "data": {
      "text/plain": [
       "['Normal',\n",
       " 'Normal',\n",
       " 'Normal',\n",
       " 'Normal',\n",
       " 'Normal',\n",
       " 'Normal',\n",
       " 'Normal',\n",
       " 'Normal',\n",
       " 'Sad',\n",
       " 'Normal',\n",
       " 'Normal',\n",
       " 'Normal',\n",
       " 'Normal',\n",
       " 'Normal',\n",
       " 'Normal',\n",
       " 'Normal']"
      ]
     },
     "execution_count": 22,
     "metadata": {},
     "output_type": "execute_result"
    }
   ],
   "source": [
    "result"
   ]
  },
  {
   "cell_type": "code",
   "execution_count": null,
   "id": "f3d6b487",
   "metadata": {},
   "outputs": [],
   "source": []
  }
 ],
 "metadata": {
  "kernelspec": {
   "display_name": "Python 3 (ipykernel)",
   "language": "python",
   "name": "python3"
  },
  "language_info": {
   "codemirror_mode": {
    "name": "ipython",
    "version": 3
   },
   "file_extension": ".py",
   "mimetype": "text/x-python",
   "name": "python",
   "nbconvert_exporter": "python",
   "pygments_lexer": "ipython3",
   "version": "3.10.9"
  }
 },
 "nbformat": 4,
 "nbformat_minor": 5
}
